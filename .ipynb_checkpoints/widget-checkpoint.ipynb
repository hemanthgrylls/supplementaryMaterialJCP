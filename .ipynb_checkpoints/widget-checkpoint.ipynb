{
 "cells": [
  {
   "cell_type": "code",
   "execution_count": 1,
   "metadata": {},
   "outputs": [],
   "source": [
    "# Hemanth Chandravamsi, Nov 2023\n",
    "# Tested on Jupyter notebook\n",
    "# This notebook when run directly from terminal does not work in interactive mode\n",
    "# This notebook requires an environment like Jupyter for interactive widgets\n",
    "import numpy as np\n",
    "import matplotlib.pyplot as plt\n",
    "from ipywidgets import interact, widgets\n",
    "from matplotlib import rc\n",
    "\n",
    "rc('font', **{'family': 'serif', 'serif': ['Latin Modern Roman'], 'size': 12})"
   ]
  },
  {
   "cell_type": "code",
   "execution_count": 4,
   "metadata": {},
   "outputs": [
    {
     "data": {
      "application/vnd.jupyter.widget-view+json": {
       "model_id": "bb1ae5a3137c48e285975e1d5726be33",
       "version_major": 2,
       "version_minor": 0
      },
      "text/plain": [
       "interactive(children=(FloatSlider(value=0.0, description='$\\\\psi_{\\\\frac{1}{2}}$:', max=0.02, min=-0.02, step=…"
      ]
     },
     "metadata": {},
     "output_type": "display_data"
    },
    {
     "data": {
      "text/plain": [
       "<function __main__.plot_realPart_ME4Opti(e1, e2)>"
      ]
     },
     "execution_count": 4,
     "metadata": {},
     "output_type": "execute_result"
    }
   ],
   "source": [
    "# Function to plot with adjustable parameters\n",
    "def plot_realPart_ME4Opti(e1, e2):\n",
    "    k = np.linspace(0, np.pi, 1000)\n",
    "    k_exact = -k*k\n",
    "    k_ME4Base = -(365/144) + (87 * np.cos(k))/32 - 3/16 * np.cos(2* k) + 1/288* np.cos(3* k)\n",
    "    kxx = -2.6284722222222223 + 45*e1 - (5*e2)/3 + (183*np.cos(k))/64 - (135*e1*np.cos(k))/2 + (5*e2*np.cos(k))/2 - (39*np.cos(2*k))/160 + 27*e1*np.cos(2*k) - e2*np.cos(2*k) + (37*np.cos(3*k))/2880 - (9*e1*np.cos(3*k))/2 + (e2*np.cos(3*k))/6\n",
    "    \n",
    "    plt.figure(figsize=(4, 4))\n",
    "    plt.plot(k, k_exact, label=f'Exact', color='black')\n",
    "    plt.plot(k, k_ME4Base, label=f'ME4-Base', color='Red', linestyle='--')\n",
    "    plt.plot(k, kxx, label=f'Real part', color='red')\n",
    "    plt.title('Real part: ME4-Opti')\n",
    "    plt.xlabel('k')\n",
    "    plt.ylabel('k$_{xx}$')\n",
    "    plt.ylim(-10,0)\n",
    "    plt.xlim(0,np.pi)\n",
    "    plt.grid(True)\n",
    "    plt.show()\n",
    "\n",
    "# interactive sliders\n",
    "e1_slider = widgets.FloatSlider(value=0, min=-1/50, max=1/50, step=0.001, description=r'$\\psi_{\\frac{1}{2}}$:')\n",
    "e2_slider = widgets.FloatSlider(value=0, min=-1/50, max=1/50, step=0.001, description=r'$\\psi_{\\frac{3}{2}}$:')\n",
    "\n",
    "# interactive plot\n",
    "interact(plot_realPart_ME4Opti, e1=e1_slider, e2=e2_slider)\n"
   ]
  },
  {
   "cell_type": "code",
   "execution_count": 5,
   "metadata": {},
   "outputs": [
    {
     "data": {
      "application/vnd.jupyter.widget-view+json": {
       "model_id": "0cbd03dd0fbf47c5a71eb9f87c34bab1",
       "version_major": 2,
       "version_minor": 0
      },
      "text/plain": [
       "interactive(children=(FloatSlider(value=0.0, description='$\\\\vartheta_{\\\\frac{1}{2}}$:', max=0.02, min=-0.02, …"
      ]
     },
     "metadata": {},
     "output_type": "display_data"
    },
    {
     "data": {
      "text/plain": [
       "<function __main__.plot_realPart_ME6Opti(e1, e2, e3)>"
      ]
     },
     "execution_count": 5,
     "metadata": {},
     "output_type": "execute_result"
    }
   ],
   "source": [
    "# Function to plot with adjustable parameters\n",
    "def plot_realPart_ME6Opti(e1, e2, e3):\n",
    "    k = np.linspace(0, np.pi, 1000)\n",
    "    k_exact = -k*k\n",
    "    k_ME6Base = -(2539103/921600) + (12505* np.cos(k))/4096 - (335* np.cos(2* k))/1024 + (2245* np.cos(3* k))/73728 - (5* np.cos(4* k))/4096 + (9* np.cos(5* k))/204800\n",
    "    kxx = -2.7983940972222223 - (2625*e1)/16 + (875*e2)/96 - (21*e3)/32 + (999*np.cos(k))/320 + (525*e1*np.cos(k))/2 - (175*e2*np.cos(k))/12 + (21*e3*np.cos(k))/20 - (231*np.cos(2*k))/640 - (525*e1*np.cos(2*k))/4 + (175*e2*np.cos(2*k))/24 - (21*e3*np.cos(2*k))/40 + (799*np.cos(3*k))/20160 + (75*e1*np.cos(3*k))/2 - (25*e2*np.cos(3*k))/12 + (3*e3*np.cos(3*k))/20 - (39*np.cos(4*k))/17920 - (75*e1*np.cos(4*k))/16 +(25*e2*np.cos(4*k))/96 - (3*e3*np.cos(4*k))/160\n",
    "\n",
    "    plt.figure(figsize=(4, 4))\n",
    "    plt.plot(k, k_exact, label=f'Exact', color='black')\n",
    "    plt.plot(k, k_ME6Base, label=f'ME6-Base', color='blue', linestyle='--')\n",
    "    plt.plot(k, kxx, label=f'Real part', color='blue')\n",
    "    plt.title('Real part: ME6-Opti')\n",
    "    plt.xlabel('k')\n",
    "    plt.ylabel('k$_{xx}$')\n",
    "    plt.ylim(-10,0)\n",
    "    plt.xlim(0,np.pi)\n",
    "    plt.grid(True)\n",
    "    plt.show()\n",
    "\n",
    "# interactive sliders\n",
    "e1_slider = widgets.FloatSlider(value=0, min=-1/50, max=1/50, step=0.001, description=r'$\\vartheta_{\\frac{1}{2}}$:')\n",
    "e2_slider = widgets.FloatSlider(value=0, min=-1/50, max=1/50, step=0.001, description=r'$\\vartheta_{\\frac{3}{2}}$:')\n",
    "e3_slider = widgets.FloatSlider(value=0, min=-1/50, max=1/50, step=0.001, description=r'$\\vartheta_{\\frac{5}{2}}$:')\n",
    "\n",
    "# interactive plot\n",
    "interact(plot_realPart_ME6Opti, e1=e1_slider, e2=e2_slider, e3=e3_slider)\n"
   ]
  },
  {
   "cell_type": "code",
   "execution_count": null,
   "metadata": {},
   "outputs": [],
   "source": []
  }
 ],
 "metadata": {
  "kernelspec": {
   "display_name": "Python 3 (ipykernel)",
   "language": "python",
   "name": "python3"
  },
  "language_info": {
   "codemirror_mode": {
    "name": "ipython",
    "version": 3
   },
   "file_extension": ".py",
   "mimetype": "text/x-python",
   "name": "python",
   "nbconvert_exporter": "python",
   "pygments_lexer": "ipython3",
   "version": "3.10.9"
  }
 },
 "nbformat": 4,
 "nbformat_minor": 1
}
